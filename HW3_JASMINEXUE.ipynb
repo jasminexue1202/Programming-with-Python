{
  "cells": [
    {
      "cell_type": "code",
      "execution_count": null,
      "metadata": {
        "colab": {
          "base_uri": "https://localhost:8080/",
          "height": 73
        },
        "id": "YJiK3tF2V69g",
        "outputId": "41febd98-cd4b-41cb-e83d-d2f761e5bd1b"
      },
      "outputs": [
        {
          "output_type": "display_data",
          "data": {
            "text/plain": [
              "<IPython.core.display.HTML object>"
            ],
            "text/html": [
              "\n",
              "     <input type=\"file\" id=\"files-88bdca1c-1f67-4bbf-8c31-b3e2ea5d4259\" name=\"files[]\" multiple disabled\n",
              "        style=\"border:none\" />\n",
              "     <output id=\"result-88bdca1c-1f67-4bbf-8c31-b3e2ea5d4259\">\n",
              "      Upload widget is only available when the cell has been executed in the\n",
              "      current browser session. Please rerun this cell to enable.\n",
              "      </output>\n",
              "      <script>// Copyright 2017 Google LLC\n",
              "//\n",
              "// Licensed under the Apache License, Version 2.0 (the \"License\");\n",
              "// you may not use this file except in compliance with the License.\n",
              "// You may obtain a copy of the License at\n",
              "//\n",
              "//      http://www.apache.org/licenses/LICENSE-2.0\n",
              "//\n",
              "// Unless required by applicable law or agreed to in writing, software\n",
              "// distributed under the License is distributed on an \"AS IS\" BASIS,\n",
              "// WITHOUT WARRANTIES OR CONDITIONS OF ANY KIND, either express or implied.\n",
              "// See the License for the specific language governing permissions and\n",
              "// limitations under the License.\n",
              "\n",
              "/**\n",
              " * @fileoverview Helpers for google.colab Python module.\n",
              " */\n",
              "(function(scope) {\n",
              "function span(text, styleAttributes = {}) {\n",
              "  const element = document.createElement('span');\n",
              "  element.textContent = text;\n",
              "  for (const key of Object.keys(styleAttributes)) {\n",
              "    element.style[key] = styleAttributes[key];\n",
              "  }\n",
              "  return element;\n",
              "}\n",
              "\n",
              "// Max number of bytes which will be uploaded at a time.\n",
              "const MAX_PAYLOAD_SIZE = 100 * 1024;\n",
              "\n",
              "function _uploadFiles(inputId, outputId) {\n",
              "  const steps = uploadFilesStep(inputId, outputId);\n",
              "  const outputElement = document.getElementById(outputId);\n",
              "  // Cache steps on the outputElement to make it available for the next call\n",
              "  // to uploadFilesContinue from Python.\n",
              "  outputElement.steps = steps;\n",
              "\n",
              "  return _uploadFilesContinue(outputId);\n",
              "}\n",
              "\n",
              "// This is roughly an async generator (not supported in the browser yet),\n",
              "// where there are multiple asynchronous steps and the Python side is going\n",
              "// to poll for completion of each step.\n",
              "// This uses a Promise to block the python side on completion of each step,\n",
              "// then passes the result of the previous step as the input to the next step.\n",
              "function _uploadFilesContinue(outputId) {\n",
              "  const outputElement = document.getElementById(outputId);\n",
              "  const steps = outputElement.steps;\n",
              "\n",
              "  const next = steps.next(outputElement.lastPromiseValue);\n",
              "  return Promise.resolve(next.value.promise).then((value) => {\n",
              "    // Cache the last promise value to make it available to the next\n",
              "    // step of the generator.\n",
              "    outputElement.lastPromiseValue = value;\n",
              "    return next.value.response;\n",
              "  });\n",
              "}\n",
              "\n",
              "/**\n",
              " * Generator function which is called between each async step of the upload\n",
              " * process.\n",
              " * @param {string} inputId Element ID of the input file picker element.\n",
              " * @param {string} outputId Element ID of the output display.\n",
              " * @return {!Iterable<!Object>} Iterable of next steps.\n",
              " */\n",
              "function* uploadFilesStep(inputId, outputId) {\n",
              "  const inputElement = document.getElementById(inputId);\n",
              "  inputElement.disabled = false;\n",
              "\n",
              "  const outputElement = document.getElementById(outputId);\n",
              "  outputElement.innerHTML = '';\n",
              "\n",
              "  const pickedPromise = new Promise((resolve) => {\n",
              "    inputElement.addEventListener('change', (e) => {\n",
              "      resolve(e.target.files);\n",
              "    });\n",
              "  });\n",
              "\n",
              "  const cancel = document.createElement('button');\n",
              "  inputElement.parentElement.appendChild(cancel);\n",
              "  cancel.textContent = 'Cancel upload';\n",
              "  const cancelPromise = new Promise((resolve) => {\n",
              "    cancel.onclick = () => {\n",
              "      resolve(null);\n",
              "    };\n",
              "  });\n",
              "\n",
              "  // Wait for the user to pick the files.\n",
              "  const files = yield {\n",
              "    promise: Promise.race([pickedPromise, cancelPromise]),\n",
              "    response: {\n",
              "      action: 'starting',\n",
              "    }\n",
              "  };\n",
              "\n",
              "  cancel.remove();\n",
              "\n",
              "  // Disable the input element since further picks are not allowed.\n",
              "  inputElement.disabled = true;\n",
              "\n",
              "  if (!files) {\n",
              "    return {\n",
              "      response: {\n",
              "        action: 'complete',\n",
              "      }\n",
              "    };\n",
              "  }\n",
              "\n",
              "  for (const file of files) {\n",
              "    const li = document.createElement('li');\n",
              "    li.append(span(file.name, {fontWeight: 'bold'}));\n",
              "    li.append(span(\n",
              "        `(${file.type || 'n/a'}) - ${file.size} bytes, ` +\n",
              "        `last modified: ${\n",
              "            file.lastModifiedDate ? file.lastModifiedDate.toLocaleDateString() :\n",
              "                                    'n/a'} - `));\n",
              "    const percent = span('0% done');\n",
              "    li.appendChild(percent);\n",
              "\n",
              "    outputElement.appendChild(li);\n",
              "\n",
              "    const fileDataPromise = new Promise((resolve) => {\n",
              "      const reader = new FileReader();\n",
              "      reader.onload = (e) => {\n",
              "        resolve(e.target.result);\n",
              "      };\n",
              "      reader.readAsArrayBuffer(file);\n",
              "    });\n",
              "    // Wait for the data to be ready.\n",
              "    let fileData = yield {\n",
              "      promise: fileDataPromise,\n",
              "      response: {\n",
              "        action: 'continue',\n",
              "      }\n",
              "    };\n",
              "\n",
              "    // Use a chunked sending to avoid message size limits. See b/62115660.\n",
              "    let position = 0;\n",
              "    do {\n",
              "      const length = Math.min(fileData.byteLength - position, MAX_PAYLOAD_SIZE);\n",
              "      const chunk = new Uint8Array(fileData, position, length);\n",
              "      position += length;\n",
              "\n",
              "      const base64 = btoa(String.fromCharCode.apply(null, chunk));\n",
              "      yield {\n",
              "        response: {\n",
              "          action: 'append',\n",
              "          file: file.name,\n",
              "          data: base64,\n",
              "        },\n",
              "      };\n",
              "\n",
              "      let percentDone = fileData.byteLength === 0 ?\n",
              "          100 :\n",
              "          Math.round((position / fileData.byteLength) * 100);\n",
              "      percent.textContent = `${percentDone}% done`;\n",
              "\n",
              "    } while (position < fileData.byteLength);\n",
              "  }\n",
              "\n",
              "  // All done.\n",
              "  yield {\n",
              "    response: {\n",
              "      action: 'complete',\n",
              "    }\n",
              "  };\n",
              "}\n",
              "\n",
              "scope.google = scope.google || {};\n",
              "scope.google.colab = scope.google.colab || {};\n",
              "scope.google.colab._files = {\n",
              "  _uploadFiles,\n",
              "  _uploadFilesContinue,\n",
              "};\n",
              "})(self);\n",
              "</script> "
            ]
          },
          "metadata": {}
        },
        {
          "output_type": "stream",
          "name": "stdout",
          "text": [
            "Saving HW3_Airfares_Selected.csv to HW3_Airfares_Selected.csv\n"
          ]
        }
      ],
      "source": [
        "from google.colab import files\n",
        "uploaded = files.upload()"
      ]
    },
    {
      "cell_type": "code",
      "execution_count": null,
      "metadata": {
        "id": "Y0apLbJgV-cn"
      },
      "outputs": [],
      "source": [
        "import pandas as pd\n",
        "import seaborn as sns"
      ]
    },
    {
      "cell_type": "code",
      "execution_count": null,
      "metadata": {
        "colab": {
          "base_uri": "https://localhost:8080/"
        },
        "id": "tC7o2vG2V_6-",
        "outputId": "434d5e1f-4c8d-4e51-d58b-57303895d54e"
      },
      "outputs": [
        {
          "output_type": "stream",
          "name": "stdout",
          "text": [
            "  VACATION   SW  S_INCOME  E_INCOME    S_POP    E_POP        SLOT  GATE  \\\n",
            "0       No  Yes     28637     21112  3036732   205711        Free  Free   \n",
            "1       No   No     26993     29838  3532657  7145897        Free  Free   \n",
            "2       No   No     30124     29838  5787293  7145897        Free  Free   \n",
            "3       No  Yes     29260     29838  7830332  7145897  Controlled  Free   \n",
            "4       No  Yes     29260     29838  7830332  7145897        Free  Free   \n",
            "5       No  Yes     26046     29838  2230955  7145897        Free  Free   \n",
            "6       No   No     28637     29838  3036732  7145897        Free  Free   \n",
            "7      Yes  Yes     26752     29838  1440377  7145897        Free  Free   \n",
            "8       No  Yes     27211     29838  3770125  7145897        Free  Free   \n",
            "9       No  Yes     25450     29838  1694803  7145897        Free  Free   \n",
            "\n",
            "   DISTANCE    FARE  \n",
            "0       312   64.11  \n",
            "1       576  174.47  \n",
            "2       364  207.76  \n",
            "3       612   85.47  \n",
            "4       612   85.47  \n",
            "5       309   56.76  \n",
            "6      1220  228.00  \n",
            "7       921  116.54  \n",
            "8      1249  172.63  \n",
            "9       964  114.76  \n",
            "['VACATION' 'SW' 'S_INCOME' 'E_INCOME' 'S_POP' 'E_POP' 'SLOT' 'GATE'\n",
            " 'DISTANCE' 'FARE']\n",
            "(636, 10)\n"
          ]
        }
      ],
      "source": [
        "# Read data from a CSV file into a data frame\n",
        "df = pd.read_csv('HW3_Airfares_Selected.csv')\n",
        "\n",
        "# Display the first ten rows of the data frame to examine if it is an individual-level data set\n",
        "print(df.head(10))\n",
        "\n",
        "# Display the variable list\n",
        "print(df.columns.values)\n",
        "\n",
        "# Display the number of rows and the number of columns in the data set to confirm the portrait shape\n",
        "# The first element of the output is the number of rows and the second is the number of columns\n",
        "print(df.shape)"
      ]
    },
    {
      "cell_type": "code",
      "execution_count": null,
      "metadata": {
        "colab": {
          "base_uri": "https://localhost:8080/",
          "height": 466
        },
        "id": "2VuhJgnBWHhV",
        "outputId": "24fc8fe6-fbe4-41a4-f9c4-7a0cdb43619c"
      },
      "outputs": [
        {
          "output_type": "execute_result",
          "data": {
            "text/plain": [
              "<Axes: xlabel='DISTANCE', ylabel='FARE'>"
            ]
          },
          "metadata": {},
          "execution_count": 5
        },
        {
          "output_type": "display_data",
          "data": {
            "text/plain": [
              "<Figure size 640x480 with 1 Axes>"
            ],
            "image/png": "[encoded data removed]"
          },
          "metadata": {}
        }
      ],
      "source": [
        "# Part2 Data Exploration\n",
        "\n",
        "# Generate a scatterplot based on KM and Price\n",
        "\n",
        "# A good programing practice:\n",
        "# We use a set of placeholder variables with pre-determined variable names (e.g., x_var, y_var) to carry problem-specific (or dataset-specific) parameter values (e.g., KM and Price).\n",
        "# Then we use those placeholder variables as the argument values for a method or an operation.\n",
        "# By doing this, later, we just need to change the values of those placeholder variables when we have a different problem (or dataset).\n",
        "\n",
        "# Placeholder variables: x_var, y_var.\n",
        "# (MODIFY THIS PART OF THE CODE FOR A DIFFERENT PROBLEM)\n",
        "x_var = 'DISTANCE'\n",
        "y_var = 'FARE'\n",
        "\n",
        "# Draw the scatterplot\n",
        "df.plot.scatter(x=x_var, y=y_var, legend=False)"
      ]
    },
    {
      "cell_type": "code",
      "execution_count": null,
      "metadata": {
        "colab": {
          "base_uri": "https://localhost:8080/",
          "height": 632
        },
        "id": "59u6wRy-WPJx",
        "outputId": "b702894c-7baf-4ee8-ba78-511acb74f7a5"
      },
      "outputs": [
        {
          "output_type": "stream",
          "name": "stdout",
          "text": [
            "          S_INCOME  E_INCOME     S_POP     E_POP  DISTANCE      FARE\n",
            "S_INCOME  1.000000 -0.140002  0.516779 -0.272888  0.030438  0.208563\n",
            "E_INCOME -0.140002  1.000000 -0.146626  0.458060  0.179154  0.326739\n",
            "S_POP     0.516779 -0.146626  1.000000 -0.281467  0.021207  0.145000\n",
            "E_POP    -0.272888  0.458060 -0.281467  1.000000  0.116757  0.285264\n",
            "DISTANCE  0.030438  0.179154  0.021207  0.116757  1.000000  0.672640\n",
            "FARE      0.208563  0.326739  0.145000  0.285264  0.672640  1.000000\n"
          ]
        },
        {
          "output_type": "execute_result",
          "data": {
            "text/plain": [
              "<Axes: >"
            ]
          },
          "metadata": {},
          "execution_count": 6
        },
        {
          "output_type": "display_data",
          "data": {
            "text/plain": [
              "<Figure size 640x480 with 2 Axes>"
            ],
            "image/png": "[encoded data removed]"
          },
          "metadata": {}
        }
      ],
      "source": [
        "# Draw a heat map for all the numerical variables in the data frame\n",
        "\n",
        "# Placeholder variables: df4heatmaps\n",
        "# (MODIFY THIS PART OF THE CODE FOR A DIFFERENT PROBLEM)\n",
        "df4heatmaps = df.select_dtypes(include=['number']) # Select only numerical features\n",
        "\n",
        "# Compute the correlation matrix\n",
        "corr = df4heatmaps.corr()\n",
        "# Print the correlation matrix\n",
        "print(corr)\n",
        "# Draw the heatmap\n",
        "sns.heatmap(corr, xticklabels=corr.columns, yticklabels=corr.columns)"
      ]
    },
    {
      "cell_type": "code",
      "execution_count": null,
      "metadata": {
        "colab": {
          "base_uri": "https://localhost:8080/",
          "height": 495
        },
        "id": "rqxrE_yhWYTZ",
        "outputId": "e4c5d36c-699e-4ed6-fe5b-12d77b3d37d5"
      },
      "outputs": [
        {
          "output_type": "execute_result",
          "data": {
            "text/plain": [
              "Text(0, 0.5, 'FARE')"
            ]
          },
          "metadata": {},
          "execution_count": 7
        },
        {
          "output_type": "display_data",
          "data": {
            "text/plain": [
              "<Figure size 640x480 with 1 Axes>"
            ],
            "image/png": "[encoded data removed]"
          },
          "metadata": {}
        }
      ],
      "source": [
        "# Draw a side-by-side box plot to detect if a categorical variable is correlated with a numerical variable\n",
        "\n",
        "\n",
        "# Placeholder variables: x_var, y_var, df4ssb\n",
        "# (MODIFY THIS PART OF THE CODE FOR A DIFFERENT PROBLEM)\n",
        "x_var = 'DISTANCE'\n",
        "y_var = 'FARE'\n",
        "df4ssb = df\n",
        "\n",
        "# Generate the side-by-side box plot. ax is the side-by-side boxplot object\n",
        "ax = df4ssb.boxplot(column=y_var, by=x_var)\n",
        "# Set the label on the y-axis using set_ylabel method of the object ax\n",
        "ax.set_ylabel(y_var)"
      ]
    },
    {
      "cell_type": "code",
      "execution_count": null,
      "metadata": {
        "colab": {
          "base_uri": "https://localhost:8080/",
          "height": 866
        },
        "id": "OE_FxQ3AWf7p",
        "outputId": "ee51ea5e-9622-42dd-b812-ea42535d47e8"
      },
      "outputs": [
        {
          "output_type": "stream",
          "name": "stdout",
          "text": [
            "    VACATION   SW  S_INCOME  E_INCOME    S_POP    E_POP        SLOT  \\\n",
            "0         No  Yes     28637     21112  3036732   205711        Free   \n",
            "1         No   No     26993     29838  3532657  7145897        Free   \n",
            "2         No   No     30124     29838  5787293  7145897        Free   \n",
            "3         No  Yes     29260     29838  7830332  7145897  Controlled   \n",
            "4         No  Yes     29260     29838  7830332  7145897        Free   \n",
            "..       ...  ...       ...       ...      ...      ...         ...   \n",
            "631      Yes   No     32991     37375  8621121   991717  Controlled   \n",
            "632      Yes   No     32991     37375  8621121   991717        Free   \n",
            "633      Yes   No     27994     37375  4948339   991717        Free   \n",
            "634      Yes   No     31981     37375  4549784   991717        Free   \n",
            "635      Yes   No     31981     37375  4549784   991717  Controlled   \n",
            "\n",
            "            GATE  DISTANCE    FARE  \n",
            "0           Free       312   64.11  \n",
            "1           Free       576  174.47  \n",
            "2           Free       364  207.76  \n",
            "3           Free       612   85.47  \n",
            "4           Free       612   85.47  \n",
            "..           ...       ...     ...  \n",
            "631         Free      1030  129.63  \n",
            "632  Constrained      1030  129.63  \n",
            "633         Free       960  124.87  \n",
            "634         Free       858  129.62  \n",
            "635         Free       858  129.62  \n",
            "\n",
            "[636 rows x 10 columns]\n"
          ]
        },
        {
          "output_type": "execute_result",
          "data": {
            "text/plain": [
              "VACATION    0\n",
              "SW          0\n",
              "S_INCOME    0\n",
              "E_INCOME    0\n",
              "S_POP       0\n",
              "E_POP       0\n",
              "SLOT        0\n",
              "GATE        0\n",
              "DISTANCE    0\n",
              "FARE        0\n",
              "dtype: int64"
            ],
            "text/html": [
              "<div>\n",
              "<style scoped>\n",
              "    .dataframe tbody tr th:only-of-type {\n",
              "        vertical-align: middle;\n",
              "    }\n",
              "\n",
              "    .dataframe tbody tr th {\n",
              "        vertical-align: top;\n",
              "    }\n",
              "\n",
              "    .dataframe thead th {\n",
              "        text-align: right;\n",
              "    }\n",
              "</style>\n",
              "<table border=\"1\" class=\"dataframe\">\n",
              "  <thead>\n",
              "    <tr style=\"text-align: right;\">\n",
              "      <th></th>\n",
              "      <th>0</th>\n",
              "    </tr>\n",
              "  </thead>\n",
              "  <tbody>\n",
              "    <tr>\n",
              "      <th>VACATION</th>\n",
              "      <td>0</td>\n",
              "    </tr>\n",
              "    <tr>\n",
              "      <th>SW</th>\n",
              "      <td>0</td>\n",
              "    </tr>\n",
              "    <tr>\n",
              "      <th>S_INCOME</th>\n",
              "      <td>0</td>\n",
              "    </tr>\n",
              "    <tr>\n",
              "      <th>E_INCOME</th>\n",
              "      <td>0</td>\n",
              "    </tr>\n",
              "    <tr>\n",
              "      <th>S_POP</th>\n",
              "      <td>0</td>\n",
              "    </tr>\n",
              "    <tr>\n",
              "      <th>E_POP</th>\n",
              "      <td>0</td>\n",
              "    </tr>\n",
              "    <tr>\n",
              "      <th>SLOT</th>\n",
              "      <td>0</td>\n",
              "    </tr>\n",
              "    <tr>\n",
              "      <th>GATE</th>\n",
              "      <td>0</td>\n",
              "    </tr>\n",
              "    <tr>\n",
              "      <th>DISTANCE</th>\n",
              "      <td>0</td>\n",
              "    </tr>\n",
              "    <tr>\n",
              "      <th>FARE</th>\n",
              "      <td>0</td>\n",
              "    </tr>\n",
              "  </tbody>\n",
              "</table>\n",
              "</div><br><label><b>dtype:</b> int64</label>"
            ]
          },
          "metadata": {},
          "execution_count": 8
        }
      ],
      "source": [
        "# Part 3 Missing Value Imputation\n",
        "import pandas as pd\n",
        "import numpy as np\n",
        "\n",
        "# Read data from a CSV file into a data frame\n",
        "df = pd.read_csv('HW3_Airfares_Selected.csv')\n",
        "\n",
        "# Show the number of missing values for each variable in the data frame\n",
        "df.isnull().sum()\n",
        "\n",
        "# What if we drop all the observations that contains missing values\n",
        "print(df.dropna())\n",
        "\n",
        "\n",
        "# Drop the observations that contain missing dependent variable values\n",
        "# Placeholder variable is DV\n",
        "DV = 'FARE'\n",
        "df_sample1 = df.dropna(subset=[DV])\n",
        "\n",
        "# print(df_sample1)\n",
        "\n",
        "# Separate all the variables into two lists for future column indexing\n",
        "# One for numerical, the other for categorical\n",
        "cvar_list = ['VACATION', 'SW', 'SLOT', 'GATE']\n",
        "nvar_list = ['S_INCOME', 'E_INCOME', 'S_POP', 'E_POP', 'DISTANCE', 'FARE']\n",
        "\n",
        "# Impute numerical missing values using sample median\n",
        "df_sample2 = df_sample1.copy()\n",
        "df_sample2[nvar_list] = df_sample1[nvar_list].fillna(value=df_sample1[nvar_list].median())\n",
        "\n",
        "\n",
        "# Get the unique values of the categorical variable Fuel_Type\n",
        "df_sample2['VACATION'].unique()\n",
        "\n",
        "# Get the unique values of each categorical variables in the data frame\n",
        "def column_unique_values(x_column):\n",
        "  return list(x_column.unique())\n",
        "\n",
        "df_sample2[cvar_list].apply(column_unique_values)\n",
        "\n",
        "\n",
        "\n",
        "# pd.np.nan refers to null values in Python\n",
        "df_sample3 = df_sample2.copy()\n",
        "\n",
        "# Impute the categorical missing values using sample mode\n",
        "df_sample4 = df_sample3.copy()\n",
        "df_sample4[cvar_list] = df_sample3[cvar_list].fillna(value=df_sample3[cvar_list].mode().loc[0,:])\n",
        "\n",
        "# Check if there is any missing value left\n",
        "df_sample4.isnull().sum()\n",
        "\n"
      ]
    },
    {
      "cell_type": "code",
      "execution_count": null,
      "metadata": {
        "colab": {
          "base_uri": "https://localhost:8080/"
        },
        "id": "XL1rsauCXjTT",
        "outputId": "2e3f404e-a3c7-47cd-db9e-f0aa25827eb6"
      },
      "outputs": [
        {
          "output_type": "stream",
          "name": "stdout",
          "text": [
            "S_INCOME    3.599478e+03\n",
            "E_INCOME    4.613079e+03\n",
            "S_POP       3.012161e+06\n",
            "E_POP       2.739333e+06\n",
            "DISTANCE    6.460052e+02\n",
            "FARE        7.611514e+01\n",
            "dtype: float64\n",
            "S_INCOME   -2.625433e-16\n",
            "E_INCOME    6.703233e-17\n",
            "S_POP       4.468822e-17\n",
            "E_POP      -2.234411e-17\n",
            "DISTANCE    3.910219e-17\n",
            "FARE       -7.261836e-17\n",
            "dtype: float64\n",
            "['S_INCOME' 'E_INCOME' 'S_POP' 'E_POP' 'DISTANCE' 'FARE' 'VACATION_Yes'\n",
            " 'SW_Yes' 'SLOT_Free' 'GATE_Free']\n",
            "     S_INCOME  E_INCOME     S_POP     E_POP  DISTANCE      FARE  VACATION_Yes  \\\n",
            "0    0.242677 -1.422984 -0.507259 -1.092213 -1.024949 -1.271156         False   \n",
            "1   -0.214056  0.468595 -0.342618  1.441319 -0.616284  0.178752         False   \n",
            "2    0.655793  0.468595  0.405893  1.441319 -0.944455  0.616116         False   \n",
            "3    0.415758  0.468595  1.084157  1.441319 -0.560557 -0.990529         False   \n",
            "4    0.415758  0.468595  1.084157  1.441319 -0.560557 -0.990529         False   \n",
            "..        ...       ...       ...       ...       ...       ...           ...   \n",
            "631  1.452297  2.102428  1.346689 -0.805279  0.086497 -0.410355          True   \n",
            "632  1.452297  2.102428  1.346689 -0.805279  0.086497 -0.410355          True   \n",
            "633  0.064040  2.102428  0.127371 -0.805279 -0.021861 -0.472892          True   \n",
            "634  1.171701  2.102428 -0.004944 -0.805279 -0.179755 -0.410487          True   \n",
            "635  1.171701  2.102428 -0.004944 -0.805279 -0.179755 -0.410487          True   \n",
            "\n",
            "     SW_Yes  SLOT_Free  GATE_Free  \n",
            "0      True       True       True  \n",
            "1     False       True       True  \n",
            "2     False       True       True  \n",
            "3      True      False       True  \n",
            "4      True       True       True  \n",
            "..      ...        ...        ...  \n",
            "631   False      False       True  \n",
            "632   False       True      False  \n",
            "633   False       True       True  \n",
            "634   False       True       True  \n",
            "635   False      False       True  \n",
            "\n",
            "[636 rows x 10 columns]\n",
            "    VACATION   SW  S_INCOME  E_INCOME    S_POP    E_POP        SLOT  \\\n",
            "0         No  Yes     28637     21112  3036732   205711        Free   \n",
            "1         No   No     26993     29838  3532657  7145897        Free   \n",
            "2         No   No     30124     29838  5787293  7145897        Free   \n",
            "3         No  Yes     29260     29838  7830332  7145897  Controlled   \n",
            "4         No  Yes     29260     29838  7830332  7145897        Free   \n",
            "..       ...  ...       ...       ...      ...      ...         ...   \n",
            "631      Yes   No     32991     37375  8621121   991717  Controlled   \n",
            "632      Yes   No     32991     37375  8621121   991717        Free   \n",
            "633      Yes   No     27994     37375  4948339   991717        Free   \n",
            "634      Yes   No     31981     37375  4549784   991717        Free   \n",
            "635      Yes   No     31981     37375  4549784   991717  Controlled   \n",
            "\n",
            "            GATE  DISTANCE    FARE  \n",
            "0           Free       312   64.11  \n",
            "1           Free       576  174.47  \n",
            "2           Free       364  207.76  \n",
            "3           Free       612   85.47  \n",
            "4           Free       612   85.47  \n",
            "..           ...       ...     ...  \n",
            "631         Free      1030  129.63  \n",
            "632  Constrained      1030  129.63  \n",
            "633         Free       960  124.87  \n",
            "634         Free       858  129.62  \n",
            "635         Free       858  129.62  \n",
            "\n",
            "[636 rows x 10 columns]\n"
          ]
        }
      ],
      "source": [
        "# Part 4 Variable transformation\n",
        "\n",
        "# Standardize the numerical variables\n",
        "df_sample5 = df_sample4.copy()\n",
        "df_sample5[nvar_list] = (df_sample4[nvar_list] - df_sample4[nvar_list].mean())/df_sample4[nvar_list].std()\n",
        "print(df_sample4[nvar_list].std())\n",
        "print(df_sample5[nvar_list].mean())\n",
        "# Set the datatype for the variables in the cvar_list to be categorical in Python\n",
        "# Set the datatype for the variables in the nvar_list to be numerical in Python\n",
        "df_sample6 = df_sample5.copy()\n",
        "df_sample6[cvar_list] = df_sample5[cvar_list].astype('category')\n",
        "df_sample6[nvar_list] = df_sample5[nvar_list].astype('float64')\n",
        "\n",
        "# Convert the categorical variables into dummies (Step 1 of dummy coding)\n",
        "# prefix_sep is the sympol used to create the dummy variable names.\n",
        "# For example, if we choose underscore _, the dummy variable name will be Fuel_Type_Diesel\n",
        "# If we choose dash -, it will be Fuel_Type-Diesel\n",
        "df_sample7 = df_sample6.copy()\n",
        "df_sample7 = pd.get_dummies(df_sample6, prefix_sep='_')\n",
        "\n",
        "#print(df_sample7.columns.values)\n",
        "# Remove the redundant dummies (Step 2 of dummy coding)\n",
        "# Placeholder variable: rdummies\n",
        "rdummies = ['VACATION_No', 'SW_No', 'SLOT_Controlled', 'GATE_Constrained']\n",
        "df_sample8 = df_sample7.copy()\n",
        "df_sample8 = df_sample7.drop(columns=rdummies)\n",
        "\n",
        "# Get the remaining variable list after the variable transformation\n",
        "print(df_sample8.columns.values)\n",
        "\n",
        "# Display the milestone dataframe. Compare it with the original dataframe.\n",
        "print(df_sample8)\n",
        "print(df)\n",
        "\n"
      ]
    },
    {
      "cell_type": "code",
      "execution_count": null,
      "metadata": {
        "colab": {
          "base_uri": "https://localhost:8080/"
        },
        "id": "ibppBrg1Ztqq",
        "outputId": "d0b56d56-3687-49ca-c1c0-43164782fe44"
      },
      "outputs": [
        {
          "output_type": "stream",
          "name": "stdout",
          "text": [
            "['S_INCOME' 'E_INCOME' 'S_POP' 'E_POP' 'DISTANCE' 'FARE' 'VACATION_Yes'\n",
            " 'SW_Yes' 'SLOT_Free' 'GATE_Free']\n"
          ]
        }
      ],
      "source": [
        "print(df_sample8.columns.values)"
      ]
    },
    {
      "cell_type": "code",
      "execution_count": null,
      "metadata": {
        "colab": {
          "base_uri": "https://localhost:8080/"
        },
        "id": "OUI9hITVZ_K4",
        "outputId": "7bcc597b-3a5f-4129-f3cc-0bd4bde95d78"
      },
      "outputs": [
        {
          "output_type": "stream",
          "name": "stdout",
          "text": [
            "     S_INCOME  E_INCOME     S_POP     E_POP  DISTANCE      FARE  VACATION_Yes  \\\n",
            "0    0.242677 -1.422984 -0.507259 -1.092213 -1.024949 -1.271156         False   \n",
            "1   -0.214056  0.468595 -0.342618  1.441319 -0.616284  0.178752         False   \n",
            "2    0.655793  0.468595  0.405893  1.441319 -0.944455  0.616116         False   \n",
            "3    0.415758  0.468595  1.084157  1.441319 -0.560557 -0.990529         False   \n",
            "4    0.415758  0.468595  1.084157  1.441319 -0.560557 -0.990529         False   \n",
            "..        ...       ...       ...       ...       ...       ...           ...   \n",
            "631  1.452297  2.102428  1.346689 -0.805279  0.086497 -0.410355          True   \n",
            "632  1.452297  2.102428  1.346689 -0.805279  0.086497 -0.410355          True   \n",
            "633  0.064040  2.102428  0.127371 -0.805279 -0.021861 -0.472892          True   \n",
            "634  1.171701  2.102428 -0.004944 -0.805279 -0.179755 -0.410487          True   \n",
            "635  1.171701  2.102428 -0.004944 -0.805279 -0.179755 -0.410487          True   \n",
            "\n",
            "     SW_Yes  SLOT_Free  GATE_Free  \n",
            "0      True       True       True  \n",
            "1     False       True       True  \n",
            "2     False       True       True  \n",
            "3      True      False       True  \n",
            "4      True       True       True  \n",
            "..      ...        ...        ...  \n",
            "631   False      False       True  \n",
            "632   False       True      False  \n",
            "633   False       True       True  \n",
            "634   False       True       True  \n",
            "635   False      False       True  \n",
            "\n",
            "[636 rows x 10 columns]\n"
          ]
        }
      ],
      "source": [
        "print(df_sample8)"
      ]
    },
    {
      "cell_type": "code",
      "execution_count": null,
      "metadata": {
        "colab": {
          "base_uri": "https://localhost:8080/"
        },
        "id": "mtWhKkwbaD2V",
        "outputId": "63109ba6-59c6-45b6-e089-916826e2e7c8"
      },
      "outputs": [
        {
          "output_type": "stream",
          "name": "stdout",
          "text": [
            "Index(['S_INCOME', 'E_INCOME', 'S_POP', 'E_POP', 'DISTANCE', 'FARE',\n",
            "       'VACATION_Yes', 'SW_Yes', 'SLOT_Controlled', 'GATE_Free'],\n",
            "      dtype='object')\n",
            "     S_INCOME  E_INCOME     S_POP     E_POP  DISTANCE      FARE  VACATION_Yes  \\\n",
            "0    0.242677 -1.422984 -0.507259 -1.092213 -1.024949 -1.271156             0   \n",
            "1   -0.214056  0.468595 -0.342618  1.441319 -0.616284  0.178752             0   \n",
            "2    0.655793  0.468595  0.405893  1.441319 -0.944455  0.616116             0   \n",
            "3    0.415758  0.468595  1.084157  1.441319 -0.560557 -0.990529             0   \n",
            "4    0.415758  0.468595  1.084157  1.441319 -0.560557 -0.990529             0   \n",
            "..        ...       ...       ...       ...       ...       ...           ...   \n",
            "631  1.452297  2.102428  1.346689 -0.805279  0.086497 -0.410355             1   \n",
            "632  1.452297  2.102428  1.346689 -0.805279  0.086497 -0.410355             1   \n",
            "633  0.064040  2.102428  0.127371 -0.805279 -0.021861 -0.472892             1   \n",
            "634  1.171701  2.102428 -0.004944 -0.805279 -0.179755 -0.410487             1   \n",
            "635  1.171701  2.102428 -0.004944 -0.805279 -0.179755 -0.410487             1   \n",
            "\n",
            "     SW_Yes  SLOT_Controlled  GATE_Free  \n",
            "0         1                0          1  \n",
            "1         0                0          1  \n",
            "2         0                0          1  \n",
            "3         1                1          1  \n",
            "4         1                0          1  \n",
            "..      ...              ...        ...  \n",
            "631       0                1          1  \n",
            "632       0                0          0  \n",
            "633       0                0          1  \n",
            "634       0                0          1  \n",
            "635       0                1          1  \n",
            "\n",
            "[636 rows x 10 columns]\n"
          ]
        }
      ],
      "source": [
        "# Check the column names to verify\n",
        "print(df_sample8.columns)\n",
        "\n",
        "# Convert dummy columns to integers\n",
        "df_sample8['VACATION_Yes'] = df_sample8['VACATION_Yes'].astype(int)\n",
        "df_sample8['SW_Yes'] = df_sample8['SW_Yes'].astype(int)\n",
        "df_sample8['SLOT_Controlled'] = df_sample8['SLOT_Controlled'].astype(int)\n",
        "\n",
        "# Make sure to use the exact column name from the DataFrame\n",
        "if 'GATE_Free' in df_sample8.columns:\n",
        "    df_sample8['GATE_Free'] = df_sample8['GATE_Free'].astype(int)\n",
        "else:\n",
        "    print(\"Column 'GATE_Free' does not exist in df_sample8.\")\n",
        "\n",
        "print(df_sample8)"
      ]
    },
    {
      "cell_type": "code",
      "execution_count": null,
      "metadata": {
        "colab": {
          "base_uri": "https://localhost:8080/"
        },
        "id": "6aCw7HeBaJd5",
        "outputId": "aff88c5f-3369-45ba-9c1f-d99b92dc63bd"
      },
      "outputs": [
        {
          "output_type": "stream",
          "name": "stdout",
          "text": [
            "     S_INCOME  E_INCOME     S_POP     E_POP  DISTANCE      FARE  VACATION_Yes  \\\n",
            "594 -0.153491  0.933143 -0.263782  0.493601  0.369776  1.791178         False   \n",
            "566 -0.885820 -1.582747 -1.117950 -0.887329 -0.955291 -1.459555          True   \n",
            "377 -0.885820 -0.274727 -1.117950 -1.076205 -0.331457 -1.204415          True   \n",
            "103 -0.885820 -0.215764 -1.117950 -0.848570  2.770686  0.293316          True   \n",
            "173  0.576337 -0.730388 -1.505511 -0.806211 -0.741670 -1.321738         False   \n",
            "..        ...       ...       ...       ...       ...       ...           ...   \n",
            "129  3.069753 -0.477195 -0.966635 -0.623655  1.496702 -0.044856         False   \n",
            "144 -1.576475 -0.672292 -1.293596 -0.730255 -0.766438 -1.161848          True   \n",
            "72   0.415758  0.208248  1.084157 -0.058742 -0.261798  1.098806         False   \n",
            "235 -0.751356  1.152086 -0.985850  1.979853 -0.606996  0.579855         False   \n",
            "37   0.415758 -0.528787  1.084157 -0.685843 -0.596160  0.962828         False   \n",
            "\n",
            "     SW_Yes  SLOT_Free  GATE_Free  \n",
            "594   False      False       True  \n",
            "566    True       True       True  \n",
            "377    True       True       True  \n",
            "103   False       True       True  \n",
            "173    True       True       True  \n",
            "..      ...        ...        ...  \n",
            "129   False       True       True  \n",
            "144    True       True       True  \n",
            "72    False      False       True  \n",
            "235   False      False      False  \n",
            "37    False       True      False  \n",
            "\n",
            "[508 rows x 10 columns]\n"
          ]
        }
      ],
      "source": [
        "# Part 5 Data Partiton\n",
        "\n",
        "# Required package: scikit-learn. Package name in Python: sklearn\n",
        "# Required subpackage: model_selection. Required function name: train_test_split\n",
        "from sklearn.model_selection import train_test_split\n",
        "\n",
        "# Placeholder variables: df4partition, testpart_size\n",
        "# test_size specifies the percentage for the test partition\n",
        "df4partition = df_sample8\n",
        "testpart_size = 0.2\n",
        "\n",
        "# random_state specifies the seed for random number generator.\n",
        "# random_state = 1 unless otherwised noted\n",
        "df_nontestData, df_testData = train_test_split(df4partition, test_size=testpart_size, random_state=1)\n",
        "\n",
        "print(df_nontestData)"
      ]
    },
    {
      "cell_type": "code",
      "execution_count": null,
      "metadata": {
        "colab": {
          "base_uri": "https://localhost:8080/"
        },
        "id": "KKgx4jevClal",
        "outputId": "016f113e-a98c-4e7f-ae61-1e1a1b61af0d"
      },
      "outputs": [
        {
          "output_type": "stream",
          "name": "stdout",
          "text": [
            "                     0\n",
            "S_INCOME      0.022521\n",
            "E_INCOME      0.062799\n",
            "S_POP         0.033497\n",
            "E_POP         0.054358\n",
            "DISTANCE      0.600097\n",
            "VACATION_Yes -0.592885\n",
            "SW_Yes       -0.632651\n",
            "SLOT_Free    -0.106474\n",
            "GATE_Free    -0.279766\n",
            "Intercept     0.646405\n",
            "                     0\n",
            "S_INCOME      0.053697\n",
            "E_INCOME      0.051722\n",
            "S_POP         0.017274\n",
            "E_POP         0.081628\n",
            "DISTANCE      0.514107\n",
            "VACATION_Yes -0.142356\n",
            "SW_Yes       -0.334210\n",
            "SLOT_Free    -0.000000\n",
            "GATE_Free    -0.000000\n",
            "Intercept     0.137609\n",
            "                     0\n",
            "S_INCOME      0.019010\n",
            "E_INCOME      0.062325\n",
            "S_POP         0.030284\n",
            "E_POP         0.048348\n",
            "DISTANCE      0.606615\n",
            "VACATION_Yes -0.618045\n",
            "SW_Yes       -0.642692\n",
            "SLOT_Free    -0.136943\n",
            "GATE_Free    -0.314372\n",
            "Intercept     0.705382\n"
          ]
        }
      ],
      "source": [
        "# Part 6 Lasso analysis\n",
        "\n",
        "# Required package: scikit-learn. Package name in Python: sklearn\n",
        "# Required subpackage: linear_model.\n",
        "# Required function name: Lasso, LassoCV\n",
        "\n",
        "from sklearn.linear_model import Lasso, LassoCV\n",
        "\n",
        "# Separate the predictor values and the DV values into X and y respectively\n",
        "# Placeholder variable: DV\n",
        "DV = 'FARE'\n",
        "y = df_nontestData[DV]\n",
        "X = df_nontestData.drop(columns=[DV])\n",
        "\n",
        "# Run Lasso with pre-specified penalty level (alpha)\n",
        "# Placeholder variable: alpha\n",
        "alpha = 0.01\n",
        "alpha2 = 0.1\n",
        "alpha3 = 0.005\n",
        "\n",
        "\n",
        "# The Lasso results are put into a Lasso model object clf\n",
        "clf = Lasso(alpha=alpha, random_state=1).fit(X,y)\n",
        "clf2 = Lasso(alpha=alpha2, random_state=1).fit(X,y)\n",
        "clf3 = Lasso(alpha=alpha3, random_state=1).fit(X,y)\n",
        "\n",
        "\n",
        "# A user-defined function summary_coef\n",
        "# to display the estimated coefficients of a model candidate obtained by the Lasso analysis\n",
        "# Input:  a Lasso model object which is the output of the function Lasso\n",
        "# Output: the estimated coefficients of the model candidate reported by the input Lasso model object\n",
        "def summary_coef(model_object):\n",
        "  n_predictors = X.shape[1]\n",
        "  model_coef = pd.DataFrame(model_object.coef_.reshape(1, n_predictors), columns=X.columns.values)\n",
        "  model_coef['Intercept'] = model_object.intercept_\n",
        "  return model_coef.transpose()\n",
        "\n",
        "#Print the estimated coefficient of the model candidate reported\n",
        "print(summary_coef(clf))\n",
        "print(summary_coef(clf2))\n",
        "print(summary_coef(clf3))\n"
      ]
    },
    {
      "cell_type": "markdown",
      "metadata": {
        "id": "Xs2izPWnozae"
      },
      "source": [
        "# Run Lasso at alpha = 0.1, name alpha2, clf2 to differentiate from the first one"
      ]
    },
    {
      "cell_type": "code",
      "execution_count": null,
      "metadata": {
        "colab": {
          "base_uri": "https://localhost:8080/"
        },
        "id": "kKmlNFCsozae",
        "outputId": "847dfa37-9230-49fd-b9de-f2381fd6dea0"
      },
      "outputs": [
        {
          "output_type": "stream",
          "name": "stdout",
          "text": [
            "0.005661624382946696\n",
            "0.005661624382946696\n",
            "                     0\n",
            "S_INCOME      0.019475\n",
            "E_INCOME      0.062388\n",
            "S_POP         0.030709\n",
            "E_POP         0.049143\n",
            "DISTANCE      0.605753\n",
            "VACATION_Yes -0.614716\n",
            "SW_Yes       -0.641363\n",
            "SLOT_Free    -0.132911\n",
            "GATE_Free    -0.309793\n",
            "Intercept     0.697578\n",
            "                     0\n",
            "S_INCOME      0.019475\n",
            "E_INCOME      0.062388\n",
            "S_POP         0.030709\n",
            "E_POP         0.049143\n",
            "DISTANCE      0.605753\n",
            "VACATION_Yes -0.614716\n",
            "SW_Yes       -0.641363\n",
            "SLOT_Free    -0.132911\n",
            "GATE_Free    -0.309793\n",
            "Intercept     0.697578\n",
            "                     0\n",
            "S_INCOME      0.019475\n",
            "E_INCOME      0.062388\n",
            "S_POP         0.030709\n",
            "E_POP         0.049143\n",
            "DISTANCE      0.605753\n",
            "VACATION_Yes -0.614716\n",
            "SW_Yes       -0.641363\n",
            "SLOT_Free    -0.132911\n",
            "GATE_Free    -0.309793\n",
            "Intercept     0.697578\n",
            "ASE with alpha = 0.01: 0.32662438509217956\n",
            "ASE with alpha = 0.01: 0.32721956500281557\n",
            "ASE with alpha = 0.1: 0.32662438509217956\n",
            "ASE with alpha = 0.1: 0.431194176105957\n",
            "ASE with alpha = 0.005: 0.32662438509217956\n",
            "ASE with alpha = 0.005: 0.3265950406461411\n",
            "0.32721956500281557\n",
            "0.32662438509217956\n",
            "0.431194176105957\n",
            "0.32662438509217956\n",
            "0.3265950406461411\n"
          ]
        }
      ],
      "source": [
        "\n",
        "#Run Lasso with k-fold cross validation with k=5\n",
        "# Placeholder variable: kfolds\n",
        "kfolds = 3\n",
        "\n",
        "# Set n_jobs to be -1 to run LassoCV on all CPU cores.\n",
        "clf_optimal = LassoCV(cv=kfolds, random_state=1, n_jobs=-1).fit(X,y)\n",
        "clf_optimal2 = LassoCV(cv=kfolds, random_state=1, n_jobs=-1).fit(X,y)\n",
        "clf_optimal3 = LassoCV(cv=kfolds, random_state=1, n_jobs=-1).fit(X,y)\n",
        "\n",
        "\n",
        "# Display the optimal alpha that yields the final selected model (the best model candidate)\n",
        "print(clf_optimal.alpha_)\n",
        "print(clf_optimal2.alpha_)\n",
        "\n",
        "# Display the estimated coefficients of the final selected model\n",
        "print(summary_coef(clf_optimal))\n",
        "print(summary_coef(clf_optimal2))\n",
        "print(summary_coef(clf_optimal3))\n",
        "\n",
        "# Calcuate the ASE over the test partition based on the final selected model\n",
        "# y_test_actual is the actual values of the DV in the test partition\n",
        "y_test_actual = df_testData[DV]\n",
        "\n",
        "# X_test is the predictor values in the test partition\n",
        "X_test = df_testData.drop(columns=[DV])\n",
        "\n",
        "# Use predict method of the clf_optimal object to apply the model associated with clf_optimal to the test partition\n",
        "# y_test_predicted is the predicted values of the DV in the test partition\n",
        "y_test_predicted = clf_optimal.predict(X_test)\n",
        "y_test_predicted1 = clf.predict(X_test)\n",
        "\n",
        "y_test_predicted2 = clf_optimal2.predict(X_test)\n",
        "y_test_predicted3 = clf2.predict(X_test)\n",
        "\n",
        "\n",
        "y_test_predicted4 = clf_optimal3.predict(X_test)\n",
        "y_test_predicted5 = clf3.predict(X_test)\n",
        "\n",
        "# Get the number of obs in the test partition\n",
        "n_obs_test = df_testData.shape[0]\n",
        "\n",
        "# Derive ASE over the test partition based on the definition of ASE\n",
        "ASE_test = sum((y_test_actual - y_test_predicted)**2)/n_obs_test\n",
        "ASE_test1 = sum((y_test_actual - y_test_predicted1)**2)/n_obs_test\n",
        "\n",
        "ASE_test2 = sum((y_test_actual - y_test_predicted2)**2)/n_obs_test\n",
        "ASE_test3 = sum((y_test_actual - y_test_predicted3)**2)/n_obs_test\n",
        "\n",
        "ASE_test4 = sum((y_test_actual - y_test_predicted4)**2)/n_obs_test\n",
        "ASE_test5 = sum((y_test_actual - y_test_predicted5)**2)/n_obs_test\n",
        "\n",
        "print(f'ASE with alpha = {alpha}: {ASE_test}')\n",
        "print(f'ASE with alpha = {alpha}: {ASE_test1}')\n",
        "print(f'ASE with alpha = {alpha2}: {ASE_test2}')\n",
        "print(f'ASE with alpha = {alpha2}: {ASE_test3}')\n",
        "print(f'ASE with alpha = {alpha3}: {ASE_test4}')\n",
        "print(f'ASE with alpha = {alpha3}: {ASE_test5}')\n",
        "\n",
        "print(ASE_test1)\n",
        "print(ASE_test2)\n",
        "print(ASE_test3)\n",
        "print(ASE_test4)\n",
        "print(ASE_test5)\n",
        "# Print the ASE\n",
        "#print(f'ASE with alpha = {alpha}: {ASE_test}') # Tu's comment: this ASE test is for the Lasso with k-fold cross-validation, not for the Lasso where alpha = 0.01\n"
      ]
    },
    {
      "cell_type": "code",
      "execution_count": null,
      "metadata": {
        "id": "WqYeE2z9ozae"
      },
      "outputs": [],
      "source": []
    }
  ],
  "metadata": {
    "colab": {
      "provenance": []
    },
    "kernelspec": {
      "display_name": "Python 3 (ipykernel)",
      "language": "python",
      "name": "python3"
    },
    "language_info": {
      "codemirror_mode": {
        "name": "ipython",
        "version": 3
      },
      "file_extension": ".py",
      "mimetype": "text/x-python",
      "name": "python",
      "nbconvert_exporter": "python",
      "pygments_lexer": "ipython3",
      "version": "3.11.5"
    }
  },
  "nbformat": 4,
  "nbformat_minor": 0
}